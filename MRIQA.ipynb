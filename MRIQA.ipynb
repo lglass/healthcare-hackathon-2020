{
  "nbformat": 4,
  "nbformat_minor": 0,
  "metadata": {
    "colab": {
      "name": "Untitled0.ipynb",
      "provenance": [],
      "authorship_tag": "ABX9TyNkaKnrohfpdQqazagnlq4r",
      "include_colab_link": true
    },
    "kernelspec": {
      "name": "python3",
      "display_name": "Python 3"
    }
  },
  "cells": [
    {
      "cell_type": "markdown",
      "metadata": {
        "id": "view-in-github",
        "colab_type": "text"
      },
      "source": [
        "<a href=\"https://colab.research.google.com/github/lglass/healthcare-hackathon-2020/blob/master/MRIQA.ipynb\" target=\"_parent\"><img src=\"https://colab.research.google.com/assets/colab-badge.svg\" alt=\"Open In Colab\"/></a>"
      ]
    },
    {
      "cell_type": "code",
      "metadata": {
        "id": "3U07MkRMxpmG",
        "colab_type": "code",
        "colab": {}
      },
      "source": [
        "import requests\n",
        "from pathlib import Path"
      ],
      "execution_count": 5,
      "outputs": []
    },
    {
      "cell_type": "code",
      "metadata": {
        "id": "Ch9bBiI_yAci",
        "colab_type": "code",
        "colab": {
          "base_uri": "https://localhost:8080/",
          "height": 452
        },
        "outputId": "6e7a787b-da4d-4f0c-bdab-c81cc58a24a7"
      },
      "source": [
        "!pip install torchio"
      ],
      "execution_count": 3,
      "outputs": [
        {
          "output_type": "stream",
          "text": [
            "Collecting torchio\n",
            "\u001b[?25l  Downloading https://files.pythonhosted.org/packages/38/b6/352c7961ea03104afc39808e1f560c681a815c229e045ae90fc2838aff5c/torchio-0.16.29-py2.py3-none-any.whl (88kB)\n",
            "\r\u001b[K     |███▊                            | 10kB 18.0MB/s eta 0:00:01\r\u001b[K     |███████▍                        | 20kB 3.0MB/s eta 0:00:01\r\u001b[K     |███████████                     | 30kB 4.0MB/s eta 0:00:01\r\u001b[K     |██████████████▊                 | 40kB 4.3MB/s eta 0:00:01\r\u001b[K     |██████████████████▍             | 51kB 3.4MB/s eta 0:00:01\r\u001b[K     |██████████████████████▏         | 61kB 3.9MB/s eta 0:00:01\r\u001b[K     |█████████████████████████▉      | 71kB 4.1MB/s eta 0:00:01\r\u001b[K     |█████████████████████████████▌  | 81kB 4.5MB/s eta 0:00:01\r\u001b[K     |████████████████████████████████| 92kB 3.3MB/s \n",
            "\u001b[?25hRequirement already satisfied: scipy in /usr/local/lib/python3.6/dist-packages (from torchio) (1.4.1)\n",
            "Collecting Python-Deprecated\n",
            "  Downloading https://files.pythonhosted.org/packages/c0/8e/c5875a0cacfcd90151be65e7bf3e08686d67d390c74eb2cc2cdada4974d1/Python-Deprecated-1.1.0.tar.gz\n",
            "Requirement already satisfied: torchvision in /usr/local/lib/python3.6/dist-packages (from torchio) (0.6.0+cu101)\n",
            "Requirement already satisfied: tqdm in /usr/local/lib/python3.6/dist-packages (from torchio) (4.41.1)\n",
            "Requirement already satisfied: Click>=7.0 in /usr/local/lib/python3.6/dist-packages (from torchio) (7.1.2)\n",
            "Requirement already satisfied: torch>=1.1 in /usr/local/lib/python3.6/dist-packages (from torchio) (1.5.0+cu101)\n",
            "Requirement already satisfied: nibabel in /usr/local/lib/python3.6/dist-packages (from torchio) (3.0.2)\n",
            "Requirement already satisfied: numpy in /usr/local/lib/python3.6/dist-packages (from torchio) (1.18.5)\n",
            "Collecting SimpleITK\n",
            "\u001b[?25l  Downloading https://files.pythonhosted.org/packages/f8/d8/53338c34f71020725ffb3557846c80af96c29c03bc883551a2565aa68a7c/SimpleITK-1.2.4-cp36-cp36m-manylinux1_x86_64.whl (42.5MB)\n",
            "\u001b[K     |████████████████████████████████| 42.5MB 113kB/s \n",
            "\u001b[?25hRequirement already satisfied: pillow>=4.1.1 in /usr/local/lib/python3.6/dist-packages (from torchvision->torchio) (7.0.0)\n",
            "Requirement already satisfied: future in /usr/local/lib/python3.6/dist-packages (from torch>=1.1->torchio) (0.16.0)\n",
            "Building wheels for collected packages: Python-Deprecated\n",
            "  Building wheel for Python-Deprecated (setup.py) ... \u001b[?25l\u001b[?25hdone\n",
            "  Created wheel for Python-Deprecated: filename=Python_Deprecated-1.1.0-py2.py3-none-any.whl size=3069 sha256=dd38e0ba2a25532817fba640f5f0c58278e71259736ab4cbb2577b4862519519\n",
            "  Stored in directory: /root/.cache/pip/wheels/b8/f1/81/2a12cf4208f219e3f023a6211a47165e74e50d534c6a3c3e64\n",
            "Successfully built Python-Deprecated\n",
            "Installing collected packages: Python-Deprecated, SimpleITK, torchio\n",
            "Successfully installed Python-Deprecated-1.1.0 SimpleITK-1.2.4 torchio-0.16.29\n"
          ],
          "name": "stdout"
        }
      ]
    },
    {
      "cell_type": "code",
      "metadata": {
        "id": "-F0H1cp4xruS",
        "colab_type": "code",
        "colab": {
          "base_uri": "https://localhost:8080/",
          "height": 104
        },
        "outputId": "f9e93fae-5d54-4cdf-b31d-aee9f95211f5"
      },
      "source": [
        "import torchio"
      ],
      "execution_count": 4,
      "outputs": [
        {
          "output_type": "stream",
          "text": [
            "If you use TorchIO for your research, please cite the following paper:\n",
            "Pérez-García et al., TorchIO: a Python library for efficient loading,\n",
            "preprocessing, augmentation and patch-based sampling of medical images\n",
            "in deep learning. Link: https://arxiv.org/abs/2003.04696\n",
            "\n"
          ],
          "name": "stdout"
        }
      ]
    },
    {
      "cell_type": "code",
      "metadata": {
        "id": "gZ-sTKgyybh0",
        "colab_type": "code",
        "colab": {
          "base_uri": "https://localhost:8080/",
          "height": 35
        },
        "outputId": "a20e26fe-fdca-48f4-dd06-81179ca17a39"
      },
      "source": [
        "# https://colab.research.google.com/drive/112NTL8uJXzcMw4PQbUvMQN-WHlVwQS3i#scrollTo=b0NdJiFW3Uy7\n",
        "# Dataset\n",
        "dataset_url = 'https://www.dropbox.com/s/ogxjwjxdv5mieah/ixi_tiny.zip?dl=0'\n",
        "dataset_path = 'ixi_tiny.zip'\n",
        "dataset_dir_name = 'ixi_tiny'\n",
        "dataset_dir = Path(dataset_dir_name)\n",
        "if not dataset_dir.is_dir():\n",
        "    !curl --silent --output {dataset_path} --location {dataset_url} \n",
        "    !unzip -qq {dataset_path}"
      ],
      "execution_count": 6,
      "outputs": [
        {
          "output_type": "stream",
          "text": [
            "/bin/bash: tree: command not found\n"
          ],
          "name": "stdout"
        }
      ]
    },
    {
      "cell_type": "code",
      "metadata": {
        "id": "9NpGHpihzWQT",
        "colab_type": "code",
        "colab": {
          "base_uri": "https://localhost:8080/",
          "height": 35
        },
        "outputId": "47cd0e27-818c-49b3-f1e0-662af1ceadc6"
      },
      "source": [
        "!ls"
      ],
      "execution_count": 7,
      "outputs": [
        {
          "output_type": "stream",
          "text": [
            "ixi_tiny  ixi_tiny.zip\tsample_data\n"
          ],
          "name": "stdout"
        }
      ]
    },
    {
      "cell_type": "code",
      "metadata": {
        "id": "D-O_PjkRze6r",
        "colab_type": "code",
        "colab": {}
      },
      "source": [
        ""
      ],
      "execution_count": null,
      "outputs": []
    }
  ]
}